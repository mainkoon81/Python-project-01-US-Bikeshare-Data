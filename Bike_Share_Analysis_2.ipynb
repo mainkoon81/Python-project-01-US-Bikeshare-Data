{
 "cells": [
  {
   "cell_type": "markdown",
   "metadata": {
    "deletable": true,
    "editable": true
   },
   "source": [
    "# 2016 US Bike Share Activity Snapshot\n",
    "\n",
    "## Table of Contents\n",
    "- [Introduction](#intro)\n",
    "- [Posing Questions](#pose_questions)\n",
    "- [Data Collection and Wrangling](#wrangling)\n",
    "  - [Condensing the Trip Data](#condensing)\n",
    "- [Exploratory Data Analysis](#eda)\n",
    "  - [Statistics](#statistics)\n",
    "  - [Visualizations](#visualizations)\n",
    "- [Performing Your Own Analysis](#eda_continued)\n",
    "- [Conclusions](#conclusions)\n",
    "\n",
    "<a id='intro'></a>\n",
    "## Introduction\n",
    "\n",
    "> **Tip**: Quoted sections like this will provide helpful instructions on how to navigate and use a Jupyter notebook.\n",
    "\n",
    "Over the past decade, bicycle-sharing systems have been growing in number and popularity in cities across the world. Bicycle-sharing systems allow users to rent bicycles for short trips, typically 30 minutes or less. Thanks to the rise in information technologies, it is easy for a user of the system to access a dock within the system to unlock or return bicycles. These technologies also provide a wealth of data that can be used to explore how these bike-sharing systems are used.\n",
    "\n",
    "In this project, you will perform an exploratory analysis on data provided by [Motivate](https://www.motivateco.com/), a bike-share system provider for many major cities in the United States. You will compare the system usage between three large cities: New York City, Chicago, and Washington, DC. You will also see if there are any differences within each system for those users that are registered, regular users and those users that are short-term, casual users."
   ]
  },
  {
   "cell_type": "markdown",
   "metadata": {
    "deletable": true,
    "editable": true
   },
   "source": [
    "<a id='pose_questions'></a>\n",
    "## Posing Questions\n",
    "\n",
    "Before looking at the bike sharing data, you should start by asking questions you might want to understand about the bike share data. Consider, for example, if you were working for Motivate. What kinds of information would you want to know about in order to make smarter business decisions? If you were a user of the bike-share service, what factors might influence how you would want to use the service?\n",
    "\n",
    "**Question 1**: Write at least two questions related to bike sharing that you think could be answered by data.\n",
    "\n",
    "**Answer**: ==> \"I'd like to know the relationship between the degree of satisfaction of users, and locational advantages of each dock within the system.\"  \n",
    "\n",
    "> **Tip**: If you double click on this cell, you will see the text change so that all of the formatting is removed. This allows you to edit this block of text. This block of text is written using [Markdown](http://daringfireball.net/projects/markdown/syntax), which is a way to format text using headers, links, italics, and many other options using a plain-text syntax. You will also use Markdown later in the Nanodegree program. Use **Shift** + **Enter** or **Shift** + **Return** to run the cell and show its rendered form."
   ]
  },
  {
   "cell_type": "markdown",
   "metadata": {
    "deletable": true,
    "editable": true
   },
   "source": [
    "\n",
    "\n",
    "\n",
    "<a id='wrangling'></a>\n",
    "## Data Collection and Wrangling\n",
    "\n",
    "Now it's time to collect and explore our data. In this project, we will focus on the record of individual trips taken in 2016 from our selected cities: New York City, Chicago, and Washington, DC. Each of these cities has a page where we can freely download the trip data.:\n",
    "\n",
    "- New York City (Citi Bike): [Link](https://www.citibikenyc.com/system-data)\n",
    "- Chicago (Divvy): [Link](https://www.divvybikes.com/system-data)\n",
    "- Washington, DC (Capital Bikeshare): [Link](https://www.capitalbikeshare.com/system-data)\n",
    "\n",
    "If you visit these pages, you will notice that each city has a different way of delivering its data. Chicago updates with new data twice a year, Washington DC is quarterly, and New York City is monthly. **However, you do not need to download the data yourself.** The data has already been collected for you in the `/data/` folder of the project files. While the original data for 2016 is spread among multiple files for each city, the files in the `/data/` folder collect all of the trip data for the year into one file per city. Some data wrangling of inconsistencies in timestamp format within each city has already been performed for you. In addition, a random 2% sample of the original data is taken to make the exploration more manageable. \n",
    "\n",
    "**Question 2**: However, there is still a lot of data for us to investigate, so it's a good idea to start off by **looking at one entry from each of the cities we're going to analyze.** Run the first code cell below to load some packages and functions that you'll be using in your analysis. Then, complete the second code cell to print out the first trip recorded from each of the cities (the second line of each data file).\n",
    "\n",
    "> **Tip**: You can run a code cell like you formatted Markdown cells above by clicking on the cell and using the keyboard shortcut **Shift** + **Enter** or **Shift** + **Return**. Alternatively, a code cell can be executed using the **Play** button in the toolbar after selecting it. While the cell is running, you will see an asterisk in the message to the left of the cell, i.e. `In [*]:`. The asterisk will change into a number to show that execution has completed, e.g. `In [1]`. If there is output, it will show up as `Out [1]:`, with an appropriate number to match the \"In\" number."
   ]
  },
  {
   "cell_type": "code",
   "execution_count": 1,
   "metadata": {
    "collapsed": false,
    "deletable": true,
    "editable": true
   },
   "outputs": [],
   "source": [
    "## import all necessary packages and functions.\n",
    "import csv # read and write csv files\n",
    "import datetime # operations to parse dates\n",
    "from pprint import pprint # use to print data structures like dictionaries in\n",
    "                          # a nicer way than the base print function."
   ]
  },
  {
   "cell_type": "code",
   "execution_count": 2,
   "metadata": {
    "collapsed": false,
    "deletable": true,
    "editable": true
   },
   "outputs": [
    {
     "name": "stdout",
     "output_type": "stream",
     "text": [
      "\n",
      "City: NYC\n",
      "{'bikeid': '17109',\n",
      " 'birth year': '',\n",
      " 'end station id': '401',\n",
      " 'end station latitude': '40.72019576',\n",
      " 'end station longitude': '-73.98997825',\n",
      " 'end station name': 'Allen St & Rivington St',\n",
      " 'gender': '0',\n",
      " 'start station id': '532',\n",
      " 'start station latitude': '40.710451',\n",
      " 'start station longitude': '-73.960876',\n",
      " 'start station name': 'S 5 Pl & S 4 St',\n",
      " 'starttime': '1/1/2016 00:09:55',\n",
      " 'stoptime': '1/1/2016 00:23:54',\n",
      " 'tripduration': '839',\n",
      " 'usertype': 'Customer'}\n",
      "\n",
      "City: Chicago\n",
      "{'bikeid': '2295',\n",
      " 'birthyear': '1990',\n",
      " 'from_station_id': '156',\n",
      " 'from_station_name': 'Clark St & Wellington Ave',\n",
      " 'gender': 'Male',\n",
      " 'starttime': '3/31/2016 23:30',\n",
      " 'stoptime': '3/31/2016 23:46',\n",
      " 'to_station_id': '166',\n",
      " 'to_station_name': 'Ashland Ave & Wrightwood Ave',\n",
      " 'trip_id': '9080545',\n",
      " 'tripduration': '926',\n",
      " 'usertype': 'Subscriber'}\n",
      "\n",
      "City: Washington\n",
      "{'Bike number': 'W20842',\n",
      " 'Duration (ms)': '427387',\n",
      " 'End date': '3/31/2016 23:04',\n",
      " 'End station': 'Georgia Ave and Fairmont St NW',\n",
      " 'End station number': '31207',\n",
      " 'Member Type': 'Registered',\n",
      " 'Start date': '3/31/2016 22:57',\n",
      " 'Start station': 'Park Rd & Holmead Pl NW',\n",
      " 'Start station number': '31602'}\n"
     ]
    }
   ],
   "source": [
    "#there is still a lot of data for us to investigate, so it's a good idea to start off by looking at one entry from each of the\n",
    "#cities we're going to analyze. So This is a totally rubbish function that does not affect the result!\n",
    "\n",
    "def print_first_point(filename):\n",
    "    city = filename.split('-')[2].split('/')[-1]\n",
    "    print('\\nCity: {}'.format(city))\n",
    "    \n",
    "    # extracting the first entry from the iterable dictionary...\n",
    "    with open(filename, 'r') as f_in:\n",
    "        trip_reader = csv.DictReader(f_in) \n",
    "        first_trip = next(trip_reader) # next() Return the next row of the reader’s iterable object as a list\n",
    "        pprint(first_trip)             # list() Returns the all rows as lists \n",
    "    return (city, first_trip)                   \n",
    "\n",
    "# list of filenames for each city\n",
    "data_files = ['C:/Users/Minkun/Desktop/classes_1/NanoDeg/1.Data_AN/L2/bike-share-analysis/data/NYC-CitiBike-2016.csv',\n",
    "              'C:/Users/Minkun/Desktop/classes_1/NanoDeg/1.Data_AN/L2/bike-share-analysis/data/Chicago-Divvy-2016.csv',\n",
    "              'C:/Users/Minkun/Desktop/classes_1/NanoDeg/1.Data_AN/L2/bike-share-analysis/data/Washington-CapitalBikeshare-2016.csv',]\n",
    "\n",
    "# recreation of a dictionary-nesting dictionary..ie..'City' keys are newly introduced. \n",
    "example_trips = {}\n",
    "\n",
    "for i in data_files:\n",
    "    cit, ftrip = print_first_point(i) #******************* the output below comes form this line ! \n",
    "    example_trips[cit] = ftrip \n",
    "    #print(example_trips)\n",
    "\n",
    "#example_trips['NYC']['tripduration']  \n",
    "\n",
    "#Here, the output below is NOT from the examlple_trips {} ..but from print() and pprint() of the func(print_first_point)..."
   ]
  },
  {
   "cell_type": "markdown",
   "metadata": {
    "deletable": true,
    "editable": true
   },
   "source": [
    "If everything has been filled out correctly, you should see below the printout of each city name (which has been parsed from the data file name) that the first trip has been parsed in the form of a dictionary. When you set up a `DictReader` object, the first row of the data file is normally interpreted as column names. Every other row in the data file will use those column names as keys, as a dictionary is generated for each row.\n",
    "\n",
    "This will be useful since we can refer to quantities by an easily-understandable label instead of just a numeric index. For example, if we have a trip stored in the variable `row`, then we would rather get the trip duration from `row['duration']` instead of `row[0]`.\n",
    "\n",
    "<a id='condensing'></a>\n",
    "### Condensing the Trip Data\n",
    "\n",
    "It should also be observable from the above printout that each city provides different information. Even where the information is the same, the column names and formats are sometimes different. To make things as simple as possible when we get to the actual exploration, we should trim and clean the data. **Cleaning the data makes sure that the data formats across the cities are consistent, while trimming focuses only on the parts of the data we are most interested in to make the exploration easier to work with.**\n",
    "\n",
    "You will generate new data files with five values of interest for each trip: 1)trip duration, 2)starting month, 3)starting hour, 4)day of the week, and 5)user type. Each of these may require additional wrangling depending on the city:\n",
    "\n",
    "- **Duration**: This has been given to us in seconds (New York, Chicago) or milliseconds (Washington). A more natural unit of analysis will be if all the trip durations are given in terms of minutes.\n",
    "- **Month**, **Hour**, **Day of Week**: Ridership volume is likely to change based on the season, time of day, and whether it is a weekday or weekend. Use the start time of the trip to obtain these values. The New York City data includes the seconds in their timestamps, while Washington and Chicago do not. The [`datetime`](https://docs.python.org/3/library/datetime.html) package will be very useful here to make the needed conversions.\n",
    "- **User Type**: It is possible that users who are subscribed to a bike-share system will have different patterns of use compared to users who only have temporary passes. Washington divides its users into two types: 'Registered' for users with annual, monthly, and other longer-term subscriptions, and 'Casual', for users with 24-hour, 3-day, and other short-term passes. The New York and Chicago data uses 'Subscriber' and 'Customer' for these groups, respectively. For consistency, you will convert the Washington labels to match the other two. It also turns out that there are some trips in the New York city dataset that do not have an attached user type. Since we don't have enough information to fill these values in, just leave them as-is for now.\n",
    "\n",
    "\n",
    "**Question 3a**: Complete the helper functions in the code cells below to address each of the cleaning tasks described above."
   ]
  },
  {
   "cell_type": "code",
   "execution_count": 3,
   "metadata": {
    "collapsed": false,
    "deletable": true,
    "editable": true
   },
   "outputs": [
    {
     "data": {
      "text/plain": [
       "\"\\n# Some tests to check that your code works. There should be no output if all of\\n# the assertions pass. Little weird, but the `example_trips` dictionary was obtained from when\\n# you printed the first trip from each of the original data files. .... 839/60, 926/60, 427387/60000 \\ntests = {'NYC': 13.9833,\\n         'Chicago': 15.4333,\\n         'Washington': 7.1231}\\n\\nfor i in tests:\\n    assert(abs(duration_in_mins(example_trips[i], i) - tests[i]) < 0.001)\\n    \\n#What's 'assert(condition)'? it returns error message if things are false. \\n\""
      ]
     },
     "execution_count": 3,
     "metadata": {},
     "output_type": "execute_result"
    }
   ],
   "source": [
    "def duration_in_mins(datum, city):\n",
    "    if city=='Washington':\n",
    "        dura_value = float(datum['Duration (ms)'])/60000\n",
    "    else: \n",
    "        dura_value = float(datum['tripduration'])/60\n",
    "    return dura_value\n",
    "\n",
    "'''\n",
    "# Some tests to check that your code works. There should be no output if all of\n",
    "# the assertions pass. Little weird, but the `example_trips` dictionary was obtained from when\n",
    "# you printed the first trip from each of the original data files. .... 839/60, 926/60, 427387/60000 \n",
    "tests = {'NYC': 13.9833,\n",
    "         'Chicago': 15.4333,\n",
    "         'Washington': 7.1231}\n",
    "\n",
    "for i in tests:\n",
    "    assert(abs(duration_in_mins(example_trips[i], i) - tests[i]) < 0.001)\n",
    "    \n",
    "#What's 'assert(condition)'? it returns error message if things are false. \n",
    "'''"
   ]
  },
  {
   "cell_type": "code",
   "execution_count": 4,
   "metadata": {
    "collapsed": false,
    "deletable": true,
    "editable": true
   },
   "outputs": [
    {
     "data": {
      "text/plain": [
       "\"\\n# Some tests to check that your code works. There should be no output if all of the assertions pass. \\n# The `example_trips` dictionary was obtained from when you printed the first trip from each of the original data files.\\ntests = {'NYC': (1, 0, 'Friday'),\\n         'Chicago': (3, 23, 'Thursday'),\\n         'Washington': (3, 22, 'Thursday')}\\n\\nfor i in tests:\\n    assert(time_of_trip(example_trips[i], i) == tests[i])\\n\""
      ]
     },
     "execution_count": 4,
     "metadata": {},
     "output_type": "execute_result"
    }
   ],
   "source": [
    "def time_of_trip(datum, city):\n",
    "    if city=='Washington': \n",
    "        month,day,year = (int(x.replace(':','')) for x in datum['Start date'].split()[0].split('/')) #why? it's multiple values\n",
    "        hour = int(datum['Start date'].split()[-1][:2].replace(':','')) #why? it's a single value \n",
    "        ans = datetime.date(year, month, day) #creating a datetime-object! [*in: int, *out: int] ==> \"datetime.date(2016, 1, 1)\"\n",
    "        day_of_week = ans.strftime('%A') #calculating, using 'year,month,day'\n",
    "    else:\n",
    "        month,day,year = (int(x.replace(':','')) for x in datum['starttime'].split()[0].split('/'))\n",
    "        hour = int(datum['starttime'].split()[-1][:2].replace(':','')) \n",
    "        ans = datetime.date(year, month, day)\n",
    "        day_of_week = ans.strftime('%A')        \n",
    "        \n",
    "    return (month, hour, day_of_week)\n",
    "'''\n",
    "# Some tests to check that your code works. There should be no output if all of the assertions pass. \n",
    "# The `example_trips` dictionary was obtained from when you printed the first trip from each of the original data files.\n",
    "tests = {'NYC': (1, 0, 'Friday'),\n",
    "         'Chicago': (3, 23, 'Thursday'),\n",
    "         'Washington': (3, 22, 'Thursday')}\n",
    "\n",
    "for i in tests:\n",
    "    assert(time_of_trip(example_trips[i], i) == tests[i])\n",
    "'''"
   ]
  },
  {
   "cell_type": "code",
   "execution_count": 5,
   "metadata": {
    "collapsed": false,
    "deletable": true,
    "editable": true
   },
   "outputs": [
    {
     "data": {
      "text/plain": [
       "\"\\n# Some tests to check that your code works. There should be no output if all of\\n# the assertions pass. The `example_trips` dictionary was obtained from when\\n# you printed the first trip from each of the original data files.\\ntests = {'NYC': 'Customer',\\n         'Chicago': 'Subscriber',\\n         'Washington': 'Subscriber'}\\n\\nfor i in tests:\\n    assert(type_of_user(example_trips[i], i) == tests[i])\\n\""
      ]
     },
     "execution_count": 5,
     "metadata": {},
     "output_type": "execute_result"
    }
   ],
   "source": [
    "def type_of_user(datum, city):\n",
    "    if city == 'Washington':\n",
    "        if datum['Member Type']=='Registered':\n",
    "            user_type = 'Subscriber'\n",
    "        else:\n",
    "            user_type = 'Customer'\n",
    "    else:\n",
    "        user_type = datum['usertype']\n",
    "    \n",
    "    return user_type\n",
    "\n",
    "'''\n",
    "# Some tests to check that your code works. There should be no output if all of\n",
    "# the assertions pass. The `example_trips` dictionary was obtained from when\n",
    "# you printed the first trip from each of the original data files.\n",
    "tests = {'NYC': 'Customer',\n",
    "         'Chicago': 'Subscriber',\n",
    "         'Washington': 'Subscriber'}\n",
    "\n",
    "for i in tests:\n",
    "    assert(type_of_user(example_trips[i], i) == tests[i])\n",
    "'''"
   ]
  },
  {
   "cell_type": "markdown",
   "metadata": {
    "deletable": true,
    "editable": true
   },
   "source": [
    "**Question 3b**: Now, use the helper functions you wrote above to *create a condensed data file for each city consisting only of the data fields indicated above. In the `/examples/` folder, you will see an example datafile from the [Bay Area Bike Share](http://www.bayareabikeshare.com/open-data) before and after conversion. Make sure that your output is formatted to be consistent with the example file."
   ]
  },
  {
   "cell_type": "code",
   "execution_count": 6,
   "metadata": {
    "collapsed": false,
    "deletable": true,
    "editable": true
   },
   "outputs": [],
   "source": [
    "# Create the logic of summary files.\n",
    "\n",
    "def condense_data(in_file, out_file, city): # why city? coz..each requires additional wrangling depending on the city..\n",
    "\n",
    "    with open(out_file, 'w') as f_out, open(in_file, 'r') as f_in:\n",
    "        # set up csv DictWriter object - writer requires column names for the\n",
    "        # first row as the \"fieldnames\" argument\n",
    "        trip_writer = csv.DictWriter(f_out, fieldnames = ['duration', 'month', 'hour', 'day_of_week', 'user_type'])\n",
    "        trip_writer.writeheader() # .writeheader() ??? Write a row with the field names.\n",
    "        \n",
    "        ## TODO: set up csv DictReader object ##\n",
    "        trip_reader = csv.DictReader(f_in)\n",
    "\n",
    "        # collect data from the entire iterable dictionary and process each row\n",
    "        for row in trip_reader:\n",
    "            # set up a dictionary to hold the values for the cleaned and trimmed data point\n",
    "            new_point = {}\n",
    "            ## TODO: use the helper functions to get the 'cleaned data' from the original data dictionaries.\n",
    "            ## Note that the keys for the new_point dictionary should match the column names set in the DictWriter object above. \n",
    "            new_point['duration'] = duration_in_mins(row, city)\n",
    "            new_point['month'] = time_of_trip(row, city)[0]\n",
    "            new_point['hour'] = time_of_trip(row, city)[1]\n",
    "            new_point['day_of_week'] = time_of_trip(row, city)[2]\n",
    "            new_point['user_type'] = type_of_user(row, city)\n",
    "             \n",
    "            ## TODO: write the processed information to the output file.     ##\n",
    "            ## see https://docs.python.org/3/library/csv.html#writer-objects ##\n",
    "            trip_writer.writerow(new_point) # Write all rows of values..##what's the difference bw 'writerow() vs writerows()'??\n",
    "            "
   ]
  },
  {
   "cell_type": "code",
   "execution_count": 7,
   "metadata": {
    "collapsed": false,
    "deletable": true,
    "editable": true
   },
   "outputs": [
    {
     "name": "stdout",
     "output_type": "stream",
     "text": [
      "\n",
      "City: Chicago\n",
      "{'day_of_week': 'Thursday',\n",
      " 'duration': '15.433333333333334',\n",
      " 'hour': '23',\n",
      " 'month': '3',\n",
      " 'user_type': 'Subscriber'}\n",
      "\n",
      "City: Washington\n",
      "{'day_of_week': 'Thursday',\n",
      " 'duration': '7.123116666666666',\n",
      " 'hour': '22',\n",
      " 'month': '3',\n",
      " 'user_type': 'Subscriber'}\n",
      "\n",
      "City: NYC\n",
      "{'day_of_week': 'Friday',\n",
      " 'duration': '13.983333333333333',\n",
      " 'hour': '0',\n",
      " 'month': '1',\n",
      " 'user_type': 'Customer'}\n"
     ]
    }
   ],
   "source": [
    "# Create the summary files! THIS IS THE MOST IMPORTANT CELL IN THIS PROCESS !!!!!!!!!!!!!!!!!!!!!!!!!!!!!!!!!!!!!!\n",
    "\n",
    "city_info = {'Washington': {'in_file': 'C:/Users/Minkun/Desktop/classes_1/NanoDeg/1.Data_AN/L2/bike-share-analysis/data/Washington-CapitalBikeshare-2016.csv',\n",
    "                            'out_file': 'C:/Users/Minkun/Desktop/classes_1/NanoDeg/1.Data_AN/L2/bike-share-analysis/data/Washington-2016-Summary.csv'},\n",
    "             'Chicago': {'in_file': 'C:/Users/Minkun/Desktop/classes_1/NanoDeg/1.Data_AN/L2/bike-share-analysis/data/Chicago-Divvy-2016.csv',\n",
    "                         'out_file': 'C:/Users/Minkun/Desktop/classes_1/NanoDeg/1.Data_AN/L2/bike-share-analysis/data/Chicago-2016-Summary.csv'},\n",
    "             'NYC': {'in_file': 'C:/Users/Minkun/Desktop/classes_1/NanoDeg/1.Data_AN/L2/bike-share-analysis/data/NYC-CitiBike-2016.csv',\n",
    "                     'out_file': 'C:/Users/Minkun/Desktop/classes_1/NanoDeg/1.Data_AN/L2/bike-share-analysis/data/NYC-2016-Summary.csv'}}\n",
    "\n",
    "# Multiple iterator => .itmes()' ? it returns a list For \"dict's\"? ..how about \"enumerate()\", Is it For a \"dataframe\" ? \n",
    "for k, v in city_info.items():\n",
    "    condense_data(v['in_file'], v['out_file'], k)\n",
    "    print_first_point(v['out_file']) #********************** the output below comes form this line - print() and pprint()\n",
    "\n",
    "    \n",
    "# Now we just achieve our main goal which is...to create 3 summary csv files!!!     "
   ]
  },
  {
   "cell_type": "markdown",
   "metadata": {
    "deletable": true,
    "editable": true
   },
   "source": [
    "> **Tip**: If you save a jupyter Notebook, the output from running code blocks will also be saved. However, the state of your workspace will be reset once a new session is started. Make sure that you run all of the necessary code blocks from your previous session to reestablish variables and functions before picking up where you last left off.\n",
    "\n",
    "<a id='eda'></a>\n",
    "## Exploratory Data Analysis\n",
    "\n",
    "Now that you have the data collected and wrangled, you're ready to start exploring the data. In this section you will write some code to compute descriptive statistics from the data. You will also be introduced to the `matplotlib` library to create some basic histograms of the data.\n",
    "\n",
    "<a id='statistics'></a>\n",
    "### Statistics\n",
    "\n",
    "First, let's compute some basic counts. The first cell below contains a function that uses the \"csv\" module(package) to iterate through a provided data file, returning the number of trips made by subscribers and customers. The second cell runs this function on the example Bay Area data in the `/examples/` folder. Modify the cells to answer the question below.\n",
    "\n",
    "**Question 4a**: Which city has the highest number of trips? Which city has the highest proportion of trips made by subscribers? Which city has the highest proportion of trips made by short-term customers?\n",
    "\n",
    "**Answer**: NYC has the highest number of trips!, NYC has the h.p.t by subscribers, Chicago has the h.p.t by customers"
   ]
  },
  {
   "cell_type": "code",
   "execution_count": 8,
   "metadata": {
    "collapsed": true,
    "deletable": true,
    "editable": true
   },
   "outputs": [],
   "source": [
    "# Based on user_type, Compute the total number of subscriber / customer \n",
    "def number_of_trips(filename):\n",
    "    with open(filename, 'r') as f_in:\n",
    "        reader = csv.DictReader(f_in)\n",
    "        \n",
    "        # initialize count variables\n",
    "        n_subscribers = 0\n",
    "        n_customers = 0\n",
    "        \n",
    "        # tally up ride types\n",
    "        for row in reader:\n",
    "            if row['user_type'] == 'Subscriber':\n",
    "                n_subscribers += 1\n",
    "            elif row['user_type'] == 'Customer':\n",
    "                n_customers += 1\n",
    "        \n",
    "        # compute total number of rides\n",
    "        n_total = n_subscribers + n_customers\n",
    "        \n",
    "        # return tallies as a tuple\n",
    "        return(n_subscribers, n_customers, n_total, n_subscribers/n_total, n_customers/n_total)"
   ]
  },
  {
   "cell_type": "code",
   "execution_count": 9,
   "metadata": {
    "collapsed": false,
    "deletable": true,
    "editable": true
   },
   "outputs": [
    {
     "name": "stdout",
     "output_type": "stream",
     "text": [
      "Chicago (54982, 17149, 72131, 0.7622520136973008, 0.23774798630269925)\n",
      "Washington (51753, 14573, 66326, 0.7802822422579381, 0.21971775774206193)\n",
      "NYC (245896, 30185, 276081, 0.8906661450806104, 0.1093338549193896)\n"
     ]
    }
   ],
   "source": [
    "data_file= {'Washington': 'C:/Users/Minkun/Desktop/classes_1/NanoDeg/1.Data_AN/L2/bike-share-analysis/data/Washington-2016-Summary.csv',\n",
    "            'Chicago': 'C:/Users/Minkun/Desktop/classes_1/NanoDeg/1.Data_AN/L2/bike-share-analysis/data/Chicago-2016-Summary.csv',\n",
    "            'NYC': 'C:/Users/Minkun/Desktop/classes_1/NanoDeg/1.Data_AN/L2/bike-share-analysis/data/NYC-2016-Summary.csv'}\n",
    "\n",
    "for i in data_file:\n",
    "    print(i, number_of_trips(data_file[i]))\n"
   ]
  },
  {
   "cell_type": "markdown",
   "metadata": {
    "deletable": true,
    "editable": true
   },
   "source": [
    "> **Tip**: In order to add additional cells to a notebook, you can use the \"Insert Cell Above\" and \"Insert Cell Below\" options from the menu bar above. There is also an icon in the toolbar for adding new cells, with additional icons for moving the cells up and down the document. By default, new cells are of the code type; you can also specify the cell type (e.g. Code or Markdown) of selected cells from the Cell menu or the dropdown in the toolbar.\n",
    "\n",
    "Now, you will write your own code to continue investigating properties of the data.\n",
    "\n",
    "**Question 4b**: Bike-share systems are designed for riders to take short trips. Most of the time, users are allowed to take trips of 30 minutes or less with no additional charges, with overage charges made for trips of longer than that duration. What is the average trip length for each city? What proportion of rides made in each city are longer than 30 minutes?\n",
    "\n",
    "**Answer**: AVG: {NYC:15.8, Chicago:18.9, Washington:16.6}, TRIP>30: {NYC:7.7%, Chicago:11.2%, Washington:8.7%} "
   ]
  },
  {
   "cell_type": "code",
   "execution_count": 10,
   "metadata": {
    "collapsed": false,
    "deletable": true,
    "editable": true,
    "scrolled": true
   },
   "outputs": [],
   "source": [
    "# Based on user_type, Compute the average trip length for each city, and the percentage of overage charges. \n",
    "## HINT: The csv module reads in all of the data as strings, including numeric values. \n",
    "## You will need a function to convert the strings into an appropriate numeric type before you aggregate data.\n",
    "\n",
    "''' # watch out!!!!!!! wrong!!!!!!!!!!!!!!!!!!!!!!!!!!!!!!!!!!!!!!!!!!!\n",
    "def avg_trip_len(filename):\n",
    "    with open(filename, 'r') as f_in:\n",
    "        reader = csv.DictReader(f_in)\n",
    "        \n",
    "        for row in reader:\n",
    "            avg = sum(float(row['duration']))/len(row['duration'])\n",
    "            over = sum((float(row['duration']))>30)/sum(float(row['duration']))\n",
    "        return avg, over\n",
    "'''\n",
    "\n",
    "def avg_trip_len(filename):\n",
    "    with open(filename, 'r') as f_in:\n",
    "        reader = csv.DictReader(f_in)\n",
    "        x = [] #well...when you count things, starting with a list first? \n",
    "        for row in reader:\n",
    "            x.append(int(round(float(row['duration'].replace(':','')))))\n",
    "        avg = sum(x)/len(x)\n",
    "        #How to count \"certain cond\" in a list? any idea?? \n",
    "        n = 0\n",
    "        for i in x:\n",
    "            if i>=30:\n",
    "                n+=1\n",
    "            else: \n",
    "                n+=0\n",
    "        over = (n/len(x))*100\n",
    "        \n",
    "        return(avg, over)\n"
   ]
  },
  {
   "cell_type": "code",
   "execution_count": 11,
   "metadata": {
    "collapsed": false,
    "deletable": true,
    "editable": true
   },
   "outputs": [
    {
     "name": "stdout",
     "output_type": "stream",
     "text": [
      "Chicago (16.563724334890686, 8.765995203172007)\n",
      "Washington (18.932108072249193, 11.191689533516268)\n",
      "NYC (15.813466860309685, 7.7175413117146805)\n"
     ]
    }
   ],
   "source": [
    "data_file= {'Washington': 'C:/Users/Minkun/Desktop/classes_1/NanoDeg/1.Data_AN/L2/bike-share-analysis/data/Washington-2016-Summary.csv',\n",
    "            'Chicago': 'C:/Users/Minkun/Desktop/classes_1/NanoDeg/1.Data_AN/L2/bike-share-analysis/data/Chicago-2016-Summary.csv',\n",
    "            'NYC': 'C:/Users/Minkun/Desktop/classes_1/NanoDeg/1.Data_AN/L2/bike-share-analysis/data/NYC-2016-Summary.csv'}\n",
    "\n",
    "for i in data_file:\n",
    "    print(i, avg_trip_len(data_file[i]))\n"
   ]
  },
  {
   "cell_type": "markdown",
   "metadata": {
    "deletable": true,
    "editable": true
   },
   "source": [
    "**Question 4c**: Dig deeper into the question of trip duration based on ridership. Choose one city. Within that city, which type of user takes longer rides on average: Subscribers or Customers?\n",
    "\n",
    "**Answer**: in NYC, customer with 32.7 / in Chicago, customer with 41.7 / in Washington, customer with 31"
   ]
  },
  {
   "cell_type": "code",
   "execution_count": 12,
   "metadata": {
    "collapsed": true,
    "deletable": true,
    "editable": true
   },
   "outputs": [],
   "source": [
    "# Based on user_type, returns the average duration \n",
    "\n",
    "def pivot(filename):\n",
    "    with open(filename, 'r') as f_in:\n",
    "        reader = csv.DictReader(f_in)\n",
    "        s = []\n",
    "        c = []\n",
    "        for row in reader:\n",
    "            if row['user_type']=='Subscriber':\n",
    "                s.append(int(round(float(row['duration'].replace(':','')))))\n",
    "            else:\n",
    "                c.append(int(round(float(row['duration'].replace(':','')))))\n",
    "        return (sum(s)/len(s), sum(c)/len(c))\n"
   ]
  },
  {
   "cell_type": "code",
   "execution_count": 13,
   "metadata": {
    "collapsed": false,
    "deletable": true,
    "editable": true
   },
   "outputs": [
    {
     "name": "stdout",
     "output_type": "stream",
     "text": [
      "Chicago (12.067440253173766, 30.97941570937081)\n",
      "Washington (12.527563619500318, 41.67652508062856)\n",
      "NYC (13.681670299638872, 32.77677820205812)\n"
     ]
    }
   ],
   "source": [
    "data_file= {'Washington': 'C:/Users/Minkun/Desktop/classes_1/NanoDeg/1.Data_AN/L2/bike-share-analysis/data/Washington-2016-Summary.csv',\n",
    "            'Chicago': 'C:/Users/Minkun/Desktop/classes_1/NanoDeg/1.Data_AN/L2/bike-share-analysis/data/Chicago-2016-Summary.csv',\n",
    "            'NYC': 'C:/Users/Minkun/Desktop/classes_1/NanoDeg/1.Data_AN/L2/bike-share-analysis/data/NYC-2016-Summary.csv'}\n",
    "\n",
    "for i in data_file:\n",
    "    print(i, pivot(data_file[i]))\n"
   ]
  },
  {
   "cell_type": "markdown",
   "metadata": {
    "deletable": true,
    "editable": true
   },
   "source": [
    "<a id='visualizations'></a>\n",
    "### Visualizations\n",
    "\n",
    "The last set of values that you computed should have pulled up an interesting result. While the mean trip time for Subscribers is well under 30 minutes, the mean trip time for Customers is actually _above_ 30 minutes! It will be interesting for us to look at how the trip times are distributed. In order to do this, a new library will be introduced here, `matplotlib`. Run the cell below to load the library and to generate an example plot."
   ]
  },
  {
   "cell_type": "code",
   "execution_count": 14,
   "metadata": {
    "collapsed": false,
    "deletable": true,
    "editable": true
   },
   "outputs": [
    {
     "data": {
      "image/png": "[encoded data removed]",
      "text/plain": [
       "<matplotlib.figure.Figure at 0x1a80c592f98>"
      ]
     },
     "metadata": {},
     "output_type": "display_data"
    }
   ],
   "source": [
    "# load library\n",
    "import matplotlib.pyplot as plt\n",
    "%matplotlib inline \n",
    "\n",
    "# example histogram, data taken from bay area sample\n",
    "data = [ 7.65,  8.92,  7.42,  5.50, 16.17,  4.20,  8.98,  9.62, 11.48, 14.33,\n",
    "        19.02, 21.53,  3.90,  7.97,  2.62,  2.67,  3.08, 14.40, 12.90,  7.83,\n",
    "        25.12,  8.30,  4.93, 12.43, 10.60,  6.17, 10.88,  4.78, 15.15,  3.53,\n",
    "         9.43, 13.32, 11.72,  9.85,  5.22, 15.10,  3.95,  3.17,  8.78,  1.88,\n",
    "         4.55, 12.68, 12.38,  9.78,  7.63,  6.45, 17.38, 11.90, 11.52,  8.63,]\n",
    "plt.hist(data)\n",
    "plt.title('Distribution of Trip Durations')\n",
    "plt.xlabel('Duration (m)')\n",
    "plt.show()"
   ]
  },
  {
   "cell_type": "markdown",
   "metadata": {
    "deletable": true,
    "editable": true
   },
   "source": [
    "In the above cell, we collected fifty trip times in a list, and passed this list as the first argument to the `.hist()` function. This function performs the computations and creates plotting objects for generating a histogram, but the plot is actually not rendered until the `.show()` function is executed. The `.title()` and `.xlabel()` functions provide some labeling for plot context.\n",
    "\n",
    "You will now use these functions to create a histogram of the trip times for the city you selected in question 4c. Don't separate the Subscribers and Customers for now: just collect all of the trip times and plot them."
   ]
  },
  {
   "cell_type": "code",
   "execution_count": 15,
   "metadata": {
    "collapsed": false,
    "deletable": true,
    "editable": true
   },
   "outputs": [
    {
     "data": {
      "image/png": "[encoded data removed]",
      "text/plain": [
       "<matplotlib.figure.Figure at 0x1a80c96bef0>"
      ]
     },
     "metadata": {},
     "output_type": "display_data"
    }
   ],
   "source": [
    "# collect all of the trip times as a list and then generate a histogram of trip times.  \n",
    "def triplist(filename):\n",
    "    with open(filename, 'r') as f_in:\n",
    "        reader = csv.DictReader(f_in)\n",
    "        ll = []\n",
    "        for row in reader:\n",
    "            ll.append(int(round(float(row['duration'].replace(':','')))))\n",
    "        return (ll)\n",
    "    \n",
    "data_file= {'Washington': 'C:/Users/Minkun/Desktop/classes_1/NanoDeg/1.Data_AN/L2/bike-share-analysis/data/Washington-2016-Summary.csv',\n",
    "            'Chicago': 'C:/Users/Minkun/Desktop/classes_1/NanoDeg/1.Data_AN/L2/bike-share-analysis/data/Chicago-2016-Summary.csv',\n",
    "            'NYC': 'C:/Users/Minkun/Desktop/classes_1/NanoDeg/1.Data_AN/L2/bike-share-analysis/data/NYC-2016-Summary.csv'}\n",
    "\n",
    "'''\n",
    "for i in data_file:\n",
    "    plt.hist(triplist(data_file[i]))   # plotting from a list..not a dataframe.. and hard to layout? \n",
    "    plt.title('Distribution of Trip Durations: {}'.format(i))\n",
    "    plt.xlabel('Duration (m)')\n",
    "    plt.show()\n",
    "'''\n",
    "\n",
    "f, (ax1, ax2, ax3) = plt.subplots(1, 3)\n",
    "ax1.hist(triplist(data_file['Washington']))\n",
    "ax2.hist(triplist(data_file['Chicago']))\n",
    "ax3.hist(triplist(data_file['NYC']))\n",
    "plt.xlabel('Duration (m)')\n",
    "plt.show()\n"
   ]
  },
  {
   "cell_type": "markdown",
   "metadata": {
    "deletable": true,
    "editable": true
   },
   "source": [
    "If you followed the use of the `.hist()` and `.show()` functions exactly like in the example, you're probably looking at a plot that's completely unexpected. The plot consists of one extremely tall bar on the left, maybe a very short second bar, and a whole lot of empty space in the center and right. Take a look at the duration values on the x-axis. **This suggests that there are some highly infrequent outliers in the data. Instead of reprocessing the data, you will use additional parameters with the `.hist()` function to limit the range of data that is plotted.** Documentation for the function can be found [[here]](https://matplotlib.org/devdocs/api/_as_gen/matplotlib.pyplot.hist.html#matplotlib.pyplot.hist).\n",
    "\n",
    "**Question 5**: Use the parameters of the `.hist()` function to plot the distribution of trip times for the Subscribers in your selected city. Do the same thing for only the Customers. **Add limits to the plots so that only trips of duration less than 75 minutes are plotted.** As a bonus, set the plots up so that **bars are in five-minute wide intervals.** For each group, where is the peak of each distribution? How would you describe the shape of each distribution?\n",
    "\n",
    "**Answer**: in Subscriber-group, dist: Exponential(skewed to the right), 5~10 min duration is the most frequently observable. in Customer-group, dist: Poisson(skewed to the right), 20~25 min is.   "
   ]
  },
  {
   "cell_type": "code",
   "execution_count": 16,
   "metadata": {
    "collapsed": false,
    "deletable": true,
    "editable": true
   },
   "outputs": [
    {
     "data": {
      "image/png": "[encoded data removed]",
      "text/plain": [
       "<matplotlib.figure.Figure at 0x1a80d19a8d0>"
      ]
     },
     "metadata": {},
     "output_type": "display_data"
    }
   ],
   "source": [
    "# for only the Subscriber. \n",
    "\n",
    "def triplist_s(filename):\n",
    "    with open(filename, 'r') as f_in:\n",
    "        reader = csv.DictReader(f_in)\n",
    "        ll = []\n",
    "        for row in reader:\n",
    "            if row['user_type']=='Subscriber':\n",
    "                ll.append(int(round(float(row['duration'].replace(':','')))))\n",
    "        return (ll)\n",
    "\n",
    "data_file= {'Washington': 'C:/Users/Minkun/Desktop/classes_1/NanoDeg/1.Data_AN/L2/bike-share-analysis/data/Washington-2016-Summary.csv',\n",
    "            'Chicago': 'C:/Users/Minkun/Desktop/classes_1/NanoDeg/1.Data_AN/L2/bike-share-analysis/data/Chicago-2016-Summary.csv',\n",
    "            'NYC': 'C:/Users/Minkun/Desktop/classes_1/NanoDeg/1.Data_AN/L2/bike-share-analysis/data/NYC-2016-Summary.csv'}\n",
    "\n",
    "'''\n",
    "for i in data_file:\n",
    "    plt.hist(triplist_s(data_file[i]), bins= range(0, 75, 5)) #bins argument accepts a list! \n",
    "    plt.title('Distribution of Trip Durations: {}'.format(i))\n",
    "    plt.xlabel('Duration (m) for Subscribers')\n",
    "    plt.show()\n",
    "'''    \n",
    "\n",
    "f, (ax1, ax2, ax3) = plt.subplots(1, 3)\n",
    "ax1.hist(triplist_s(data_file['Washington']), bins=range(0, 75, 5))\n",
    "ax2.hist(triplist_s(data_file['Chicago']), bins=range(0, 75, 5))\n",
    "ax3.hist(triplist_s(data_file['NYC']), bins=range(0, 75, 5))\n",
    "plt.xlabel('Duration (m) for Subscribers')\n",
    "plt.show()\n"
   ]
  },
  {
   "cell_type": "code",
   "execution_count": 17,
   "metadata": {
    "collapsed": false,
    "deletable": true,
    "editable": true
   },
   "outputs": [
    {
     "data": {
      "image/png": "[encoded data removed]",
      "text/plain": [
       "<matplotlib.figure.Figure at 0x1a80cf7af98>"
      ]
     },
     "metadata": {},
     "output_type": "display_data"
    },
    {
     "data": {
      "image/png": "[encoded data removed]",
      "text/plain": [
       "<matplotlib.figure.Figure at 0x1a80d2166d8>"
      ]
     },
     "metadata": {},
     "output_type": "display_data"
    },
    {
     "data": {
      "image/png": "[encoded data removed]",
      "text/plain": [
       "<matplotlib.figure.Figure at 0x1a80d08ac88>"
      ]
     },
     "metadata": {},
     "output_type": "display_data"
    }
   ],
   "source": [
    "# for only the Subscriber. \n",
    "\n",
    "def triplist_c(filename):\n",
    "    with open(filename, 'r') as f_in:\n",
    "        reader = csv.DictReader(f_in)\n",
    "        ll = []\n",
    "        for row in reader:\n",
    "            if row['user_type']=='Customer':\n",
    "                ll.append(int(round(float(row['duration'].replace(':','')))))\n",
    "        return (ll)\n",
    "\n",
    "data_file= {'Washington': 'C:/Users/Minkun/Desktop/classes_1/NanoDeg/1.Data_AN/L2/bike-share-analysis/data/Washington-2016-Summary.csv',\n",
    "            'Chicago': 'C:/Users/Minkun/Desktop/classes_1/NanoDeg/1.Data_AN/L2/bike-share-analysis/data/Chicago-2016-Summary.csv',\n",
    "            'NYC': 'C:/Users/Minkun/Desktop/classes_1/NanoDeg/1.Data_AN/L2/bike-share-analysis/data/NYC-2016-Summary.csv'}\n",
    "\n",
    "for i in data_file:\n",
    "    plt.hist(triplist_c(data_file[i]), bins = range(0, 75, 5)) #bins argument accepts a list!\n",
    "    plt.title('Distribution of Trip Durations: {}'.format(i))\n",
    "    plt.xlabel('Duration (m) for Customers')\n",
    "    plt.show()\n",
    "    "
   ]
  },
  {
   "cell_type": "code",
   "execution_count": null,
   "metadata": {
    "collapsed": false,
    "deletable": true,
    "editable": true
   },
   "outputs": [],
   "source": [
    "# wtf ? \n",
    "'''\n",
    "f, (ax1, ax2, ax3) = plt.subplots(1, 3)\n",
    "ax1.hist(data1)\n",
    "ax2.hist(data2)\n",
    "ax3.hist(data3)\n",
    "plt.show()\n",
    "'''\n",
    "'''\n",
    "from random import sample\n",
    "import matplotlib.pyplot as plt\n",
    "%matplotlib inline \n",
    "\n",
    "data1 = sample(range(1, 1000), 100); data1 #a list of 100 entries..histogram shows how many each entry appears. \n",
    "data2 = sample(range(1, 1000), 100); data2\n",
    "data3 = sample(range(1, 1000), 100); data3\n",
    "\n",
    "plt.figure()\n",
    "\n",
    "plt.subplot(1,3,1)\n",
    "plt.hist(data1)\n",
    "plt.show()\n",
    "\n",
    "plt.subplot(1,3,2)\n",
    "plt.hist(data2)\n",
    "plt.show()\n",
    "\n",
    "plt.subplot(1,3,3)\n",
    "plt.hist(data3)\n",
    "plt.show()\n",
    "'''"
   ]
  },
  {
   "cell_type": "code",
   "execution_count": null,
   "metadata": {
    "collapsed": false,
    "deletable": true,
    "editable": true
   },
   "outputs": [],
   "source": [
    "#data1"
   ]
  },
  {
   "cell_type": "markdown",
   "metadata": {
    "collapsed": true,
    "deletable": true,
    "editable": true
   },
   "source": [
    "<a id='eda_continued'></a>\n",
    "## Performing Your Own Analysis\n",
    "\n",
    "So far, you've performed an initial exploration into the data available. You have compared the relative volume of trips made between three U.S. cities and the ratio of trips made by Subscribers and Customers. For one of these cities, you have investigated differences between Subscribers and Customers in terms of how long a typical trip lasts. Now it is your turn to continue the exploration in a direction that you choose. Here are a few suggestions for questions to explore:\n",
    "\n",
    "- How does ridership differ by month or season? \n",
    "- Which month / season has the highest ridership? \n",
    "- Does the ratio of Subscriber trips to Customer trips change depending on the month or season?\n",
    "- Is the pattern of ridership different on the weekends versus weekdays? \n",
    "- On what days are Subscribers most likely to use the system? What about Customers? \n",
    "- Does the average duration of rides change depending on the day of the week?\n",
    "- During what time of day is the system used the most? \n",
    "- Is there a difference in usage patterns for Subscribers and Customers?\n",
    "\n",
    "If any of the questions you posed in your answer to question 1 align with the bullet points above, this is a good opportunity to investigate one of them. As part of your investigation, you will need to create a visualization. If you want to create something other than a histogram, then you might want to consult the [Pyplot documentation](https://matplotlib.org/devdocs/api/pyplot_summary.html). In particular, if you are plotting values across a categorical variable (e.g. city, user type), a bar chart will be useful. The [documentation page for `.bar()`](https://matplotlib.org/devdocs/api/_as_gen/matplotlib.pyplot.bar.html#matplotlib.pyplot.bar) includes links at the bottom of the page with examples for you to build off of for your own use.\n",
    "\n",
    "**Question 6**: Continue the investigation by exploring another question that could be answered by the data available. Document the question you want to explore below. Your investigation should involve at least two variables and should compare at least two groups. You should also use at least one visualization as part of your explorations.\n",
    "\n",
    "**Answer**: Replace this text with your responses and include a visualization below!"
   ]
  },
  {
   "cell_type": "code",
   "execution_count": 18,
   "metadata": {
    "collapsed": false,
    "deletable": true,
    "editable": true
   },
   "outputs": [],
   "source": [
    "#duration\n",
    "def dur(datum, city):\n",
    "    if city=='Washington':\n",
    "        dura_value = float(datum['Duration (ms)'])/60000\n",
    "    else: \n",
    "        dura_value = float(datum['tripduration'])/60\n",
    "    return(dura_value)\n",
    "\n",
    "#dur(all_trips['NYC'], 'NYC')\n",
    "#dur(all_trips['Chicago'], 'Chicago')\n",
    "#dur(all_trips['Washington'], 'Washington')"
   ]
  },
  {
   "cell_type": "code",
   "execution_count": 19,
   "metadata": {
    "collapsed": true
   },
   "outputs": [],
   "source": [
    "#usertype\n",
    "def user(datum, city):\n",
    "    if city == 'Washington':\n",
    "        if datum['Member Type']=='Registered':\n",
    "            user_type = 'Subscriber'\n",
    "        else:\n",
    "            user_type = 'Customer'\n",
    "    else:\n",
    "        user_type = datum['usertype']\n",
    "    return(user_type)\n",
    "\n",
    "#user(all_trips['NYC'], 'NYC')\n",
    "#user(all_trips['Chicago'], 'Chicago')\n",
    "#user(all_trips['Washington'], 'Washington')"
   ]
  },
  {
   "cell_type": "code",
   "execution_count": 20,
   "metadata": {
    "collapsed": true
   },
   "outputs": [],
   "source": [
    "#day of week\n",
    "def day(datum, city):\n",
    "    if city=='Washington': \n",
    "        month,day,year = (int(x.replace(':','')) for x in datum['Start date'].split()[0].split('/')) \n",
    "        ans = datetime.date(year, month, day) #creating a datetime-object! [*in: int, *out: int] ==> \"datetime.date(2016, 1, 1)\"\n",
    "        day_of_week = ans.strftime('%A') #calculating, using 'year,month,day'\n",
    "    else:\n",
    "        month,day,year = (int(x.replace(':','')) for x in datum['starttime'].split()[0].split('/'))\n",
    "        ans = datetime.date(year, month, day)\n",
    "        day_of_week = ans.strftime('%A')        \n",
    "    return(day_of_week)\n",
    "\n",
    "#day(all_trips['NYC'], 'NYC')\n",
    "#day(all_trips['Chicago'], 'Chicago')\n",
    "#day(all_trips['Washington'], 'Washington')"
   ]
  },
  {
   "cell_type": "code",
   "execution_count": 21,
   "metadata": {
    "collapsed": true
   },
   "outputs": [],
   "source": [
    "# Create the logic of summary files.\n",
    "\n",
    "def condense_data_2(in_file, out_file, city): \n",
    "    with open(out_file, 'w') as f_out, open(in_file, 'r') as f_in:\n",
    "        trip_writer = csv.DictWriter(f_out, fieldnames = ['duration', 'day_of_week', 'user_type'])\n",
    "        trip_writer.writeheader()\n",
    "        trip_reader = csv.DictReader(f_in)\n",
    "\n",
    "        for row in trip_reader:\n",
    "            new_point = {}\n",
    "            new_point['duration'] = dur(row, city)\n",
    "            new_point['day_of_week'] = day(row, city)\n",
    "            new_point['user_type'] = user(row, city)\n",
    "             \n",
    "            trip_writer.writerow(new_point)\n"
   ]
  },
  {
   "cell_type": "code",
   "execution_count": 22,
   "metadata": {
    "collapsed": true
   },
   "outputs": [],
   "source": [
    "# Create the summary files!\n",
    "\n",
    "city_info = {'Washington': {'in_file': 'C:/Users/Minkun/Desktop/classes_1/NanoDeg/1.Data_AN/L2/bike-share-analysis/data/Washington-CapitalBikeshare-2016.csv',\n",
    "                            'out_file': 'C:/Users/Minkun/Desktop/classes_1/NanoDeg/1.Data_AN/L2/bike-share-analysis/data/Washington-2016-Summary.csv'},\n",
    "             'Chicago': {'in_file': 'C:/Users/Minkun/Desktop/classes_1/NanoDeg/1.Data_AN/L2/bike-share-analysis/data/Chicago-Divvy-2016.csv',\n",
    "                         'out_file': 'C:/Users/Minkun/Desktop/classes_1/NanoDeg/1.Data_AN/L2/bike-share-analysis/data/Chicago-2016-Summary.csv'},\n",
    "             'NYC': {'in_file': 'C:/Users/Minkun/Desktop/classes_1/NanoDeg/1.Data_AN/L2/bike-share-analysis/data/NYC-CitiBike-2016.csv',\n",
    "                     'out_file': 'C:/Users/Minkun/Desktop/classes_1/NanoDeg/1.Data_AN/L2/bike-share-analysis/data/NYC-2016-Summary.csv'}}\n",
    "\n",
    "for k, v in city_info.items():\n",
    "    condense_data_2(v['in_file'], v['out_file'], k)\n"
   ]
  },
  {
   "cell_type": "code",
   "execution_count": 23,
   "metadata": {
    "collapsed": true
   },
   "outputs": [],
   "source": [
    "################################################################################################################################\n",
    "################################################################################################################################\n",
    "# Here, our analysis begins in earnest, buckling down to it! # Now the filename is our 'new summary' files! \n",
    "\n",
    "# Based on day_of_week, Compute the total number of subscriber + customer \n",
    "def day_trips_1(filename):\n",
    "    with open(filename, 'r') as f_in:\n",
    "        reader = csv.DictReader(f_in)\n",
    "        \n",
    "        n_M = 0\n",
    "        n_T = 0\n",
    "        n_W = 0\n",
    "        n_TH = 0\n",
    "        n_F = 0\n",
    "        n_SA = 0\n",
    "        n_SN = 0\n",
    "        \n",
    "        for row in reader:\n",
    "            if row['day_of_week'] == 'Monday':\n",
    "                n_M += 1\n",
    "            elif row['day_of_week'] == 'Tuesday':\n",
    "                n_T += 1\n",
    "            elif row['day_of_week'] == 'Wednesday':\n",
    "                n_W += 1\n",
    "            elif row['day_of_week'] == 'Thursday':\n",
    "                n_TH += 1\n",
    "            elif row['day_of_week'] == 'Friday':\n",
    "                n_F += 1\n",
    "            elif row['day_of_week'] == 'Saturday':\n",
    "                n_SA += 1\n",
    "            elif row['day_of_week'] == 'Sunday':\n",
    "                n_SN += 1\n",
    "        \n",
    "        n_total = n_M + n_T + n_W + n_TH + n_F + n_SA + n_SN\n",
    "        \n",
    "        return(n_M, n_T, n_W, n_TH, n_F, n_SA, n_SN, n_total)\n"
   ]
  },
  {
   "cell_type": "code",
   "execution_count": 24,
   "metadata": {
    "collapsed": false
   },
   "outputs": [
    {
     "name": "stdout",
     "output_type": "stream",
     "text": [
      "Chicago (11286, 10911, 9604, 10008, 10741, 9927, 9654, 72131)\n",
      "Washington (9394, 9748, 10103, 9984, 9970, 8900, 8227, 66326)\n",
      "NYC (39340, 42405, 44629, 44330, 41389, 33353, 31352, 276798)\n"
     ]
    }
   ],
   "source": [
    "data_file= {'Washington': 'C:/Users/Minkun/Desktop/classes_1/NanoDeg/1.Data_AN/L2/bike-share-analysis/data/Washington-2016-Summary.csv',\n",
    "            'Chicago': 'C:/Users/Minkun/Desktop/classes_1/NanoDeg/1.Data_AN/L2/bike-share-analysis/data/Chicago-2016-Summary.csv',\n",
    "            'NYC': 'C:/Users/Minkun/Desktop/classes_1/NanoDeg/1.Data_AN/L2/bike-share-analysis/data/NYC-2016-Summary.csv'}\n",
    "\n",
    "for i in data_file:\n",
    "    print(i, day_trips_1(data_file[i]))"
   ]
  },
  {
   "cell_type": "code",
   "execution_count": 25,
   "metadata": {
    "collapsed": true
   },
   "outputs": [],
   "source": [
    "# Based on user_type, print the total duration by day_of_week !\n",
    "\n",
    "#For Subscriber\n",
    "def day_trips_2_s(filename):\n",
    "    with open(filename, 'r') as f_in:\n",
    "        reader = csv.DictReader(f_in)\n",
    "        M = []\n",
    "        T = []\n",
    "        W = []\n",
    "        TH = []\n",
    "        F = []\n",
    "        SA = []\n",
    "        SN = []\n",
    "        \n",
    "        for row in reader:\n",
    "            if row['user_type']=='Subscriber':\n",
    "                if row['day_of_week']=='Monday':\n",
    "                    M.append(int(round(float(row['duration'].replace(':','')))))\n",
    "                elif row['day_of_week']=='Tuesday':\n",
    "                    T.append(int(round(float(row['duration'].replace(':','')))))\n",
    "                elif row['day_of_week']=='Wednesday':\n",
    "                    W.append(int(round(float(row['duration'].replace(':','')))))\n",
    "                elif row['day_of_week']=='Thursday':\n",
    "                    TH.append(int(round(float(row['duration'].replace(':','')))))\n",
    "                elif row['day_of_week']=='Friday':\n",
    "                    F.append(int(round(float(row['duration'].replace(':','')))))\n",
    "                elif row['day_of_week']=='Saturday':\n",
    "                    SA.append(int(round(float(row['duration'].replace(':','')))))\n",
    "                elif row['day_of_week']=='Sunday':\n",
    "                    SN.append(int(round(float(row['duration'].replace(':','')))))\n",
    "        return (sum(M), sum(T), sum(W), sum(TH), sum(F), sum(SA), sum(SN))\n",
    "\n",
    "    \n",
    "#For Customer\n",
    "def day_trips_2_c(filename):\n",
    "    with open(filename, 'r') as f_in:\n",
    "        reader = csv.DictReader(f_in)\n",
    "        M = []\n",
    "        T = []\n",
    "        W = []\n",
    "        TH = []\n",
    "        F = []\n",
    "        SA = []\n",
    "        SN = []\n",
    "        \n",
    "        for row in reader:\n",
    "            if row['user_type']=='Customer':\n",
    "                if row['day_of_week']=='Monday':\n",
    "                    M.append(int(round(float(row['duration'].replace(':','')))))\n",
    "                elif row['day_of_week']=='Tuesday':\n",
    "                    T.append(int(round(float(row['duration'].replace(':','')))))\n",
    "                elif row['day_of_week']=='Wednesday':\n",
    "                    W.append(int(round(float(row['duration'].replace(':','')))))\n",
    "                elif row['day_of_week']=='Thursday':\n",
    "                    TH.append(int(round(float(row['duration'].replace(':','')))))\n",
    "                elif row['day_of_week']=='Friday':\n",
    "                    F.append(int(round(float(row['duration'].replace(':','')))))\n",
    "                elif row['day_of_week']=='Saturday':\n",
    "                    SA.append(int(round(float(row['duration'].replace(':','')))))\n",
    "                elif row['day_of_week']=='Sunday':\n",
    "                    SN.append(int(round(float(row['duration'].replace(':','')))))\n",
    "        return (sum(M), sum(T), sum(W), sum(TH), sum(F), sum(SA), sum(SN))    "
   ]
  },
  {
   "cell_type": "code",
   "execution_count": 26,
   "metadata": {
    "collapsed": false
   },
   "outputs": [
    {
     "name": "stdout",
     "output_type": "stream",
     "text": [
      "Chicago (107260, 107721, 101987, 99234, 101375, 74831, 71084)\n",
      "Washington (94274, 103103, 107015, 105874, 96835, 73180, 68058)\n",
      "NYC (470472, 509622, 545324, 547415, 540074, 387417, 363944)\n",
      "Chicago (74642, 48232, 36904, 40229, 65936, 129981, 135342)\n",
      "Washington (70746, 59558, 57552, 60700, 81946, 147628, 129222)\n",
      "NYC (120377, 94771, 106525, 96223, 120299, 234779, 222606)\n"
     ]
    }
   ],
   "source": [
    "data_file= {'Washington': 'C:/Users/Minkun/Desktop/classes_1/NanoDeg/1.Data_AN/L2/bike-share-analysis/data/Washington-2016-Summary.csv',\n",
    "            'Chicago': 'C:/Users/Minkun/Desktop/classes_1/NanoDeg/1.Data_AN/L2/bike-share-analysis/data/Chicago-2016-Summary.csv',\n",
    "            'NYC': 'C:/Users/Minkun/Desktop/classes_1/NanoDeg/1.Data_AN/L2/bike-share-analysis/data/NYC-2016-Summary.csv'}\n",
    "\n",
    "for i in data_file:\n",
    "    print(i, day_trips_2_s(data_file[i])) # for subscriber\n",
    "    \n",
    "for i in data_file:\n",
    "    print(i, day_trips_2_c(data_file[i])) # for customer"
   ]
  },
  {
   "cell_type": "code",
   "execution_count": 27,
   "metadata": {
    "collapsed": false
   },
   "outputs": [
    {
     "data": {
      "image/png": "[encoded data removed]",
      "text/plain": [
       "<matplotlib.figure.Figure at 0x1a808c565c0>"
      ]
     },
     "metadata": {},
     "output_type": "display_data"
    },
    {
     "data": {
      "image/png": "[encoded data removed]",
      "text/plain": [
       "<matplotlib.figure.Figure at 0x1a80d274278>"
      ]
     },
     "metadata": {},
     "output_type": "display_data"
    },
    {
     "data": {
      "image/png": "[encoded data removed]",
      "text/plain": [
       "<matplotlib.figure.Figure at 0x1a80d2d4d68>"
      ]
     },
     "metadata": {},
     "output_type": "display_data"
    },
    {
     "data": {
      "image/png": "[encoded data removed]",
      "text/plain": [
       "<matplotlib.figure.Figure at 0x1a80d0b3f28>"
      ]
     },
     "metadata": {},
     "output_type": "display_data"
    },
    {
     "data": {
      "image/png": "[encoded data removed]",
      "text/plain": [
       "<matplotlib.figure.Figure at 0x1a80dafc3c8>"
      ]
     },
     "metadata": {},
     "output_type": "display_data"
    },
    {
     "data": {
      "image/png": "[encoded data removed]",
      "text/plain": [
       "<matplotlib.figure.Figure at 0x1a80cf9c668>"
      ]
     },
     "metadata": {},
     "output_type": "display_data"
    }
   ],
   "source": [
    "#Plotting\n",
    "# collect sum of duration as a list and then generate a histogram.  \n",
    "\n",
    "data_file= {'Washington': 'C:/Users/Minkun/Desktop/classes_1/NanoDeg/1.Data_AN/L2/bike-share-analysis/data/Washington-2016-Summary.csv',\n",
    "            'Chicago': 'C:/Users/Minkun/Desktop/classes_1/NanoDeg/1.Data_AN/L2/bike-share-analysis/data/Chicago-2016-Summary.csv',\n",
    "            'NYC': 'C:/Users/Minkun/Desktop/classes_1/NanoDeg/1.Data_AN/L2/bike-share-analysis/data/NYC-2016-Summary.csv'}\n",
    "\n",
    "'''\n",
    "for i in data_file:\n",
    "    f, (ax1, ax2, ax3) = plt.subplots(1, 3)\n",
    "    labels = ['M', 'T', 'W', 'TH', 'F', 'SA', 'SN']\n",
    "    \n",
    "    data1 = day_trips_2_s(data_file['Washington'])\n",
    "    data2 = day_trips_2_s(data_file['Chicago'])\n",
    "    data3 = day_trips_2_s(data_file['NYC'])\n",
    "    \n",
    "    ax1.bar(range(len(data1)), data1, align='center')\n",
    "    plt.xticks(range(len(data1)), labels, rotation='vertical')\n",
    "    plt.ylim(ymax = 600000)\n",
    "    plt.title('Trip Durations for Subscribers: {}'.format(i))\n",
    "    \n",
    "    ax2.bar(range(len(data2)), data2, align='center')\n",
    "    plt.xticks(range(len(data2)), labels, rotation='vertical')\n",
    "    plt.ylim(ymax = 600000)\n",
    "    plt.title('Trip Durations for Subscribers: {}'.format(i))\n",
    "    \n",
    "    ax3.bar(range(len(data3)), data3, align='center')\n",
    "    plt.xticks(range(len(data3)), labels, rotation='vertical')\n",
    "    plt.ylim(ymax = 600000)\n",
    "    plt.title('Trip Durations for Subscribers: {}'.format(i))\n",
    "    \n",
    "    plt.show()    \n",
    "'''\n",
    "\n",
    "\n",
    "for i in data_file:\n",
    "    data = day_trips_2_s(data_file[i])\n",
    "    labels = ['M', 'T', 'W', 'TH', 'F', 'SA', 'SN']\n",
    "    plt.bar(range(len(data)), data, align='center') # x is a range..y is the data...\n",
    "    plt.ylim(ymax = 600000)\n",
    "    plt.xticks(range(len(data)), labels, rotation='vertical')\n",
    "    plt.title('Trip Durations for Subscribers: {}'.format(i))\n",
    "    plt.show()\n",
    "    \n",
    "    data2 = day_trips_2_c(data_file[i])\n",
    "    labels = ['M', 'T', 'W', 'TH', 'F', 'SA', 'SN']\n",
    "    plt.bar(range(len(data)), data2, align='center') # x is a range..y is the data...\n",
    "    plt.ylim(ymax = 600000)\n",
    "    plt.xticks(range(len(data)), labels, rotation='vertical')\n",
    "    plt.title('Trip Durations for Customers: {}'.format(i))\n",
    "    plt.show()\n",
    "    \n",
    "    "
   ]
  },
  {
   "cell_type": "markdown",
   "metadata": {
    "deletable": true,
    "editable": true
   },
   "source": [
    "<a id='conclusions'></a>\n",
    "## Conclusions\n",
    "\n",
    "Congratulations on completing the project! This is only a sampling of the data analysis process: from generating questions, wrangling the data, and to exploring the data. Normally, at this point in the data analysis process, you might want to draw conclusions about the data by performing a statistical test or fitting the data to a model for making predictions. There are also a lot of potential analyses that could be performed on the data which are not possible with only the data provided. \n",
    "\n",
    "For example, detailed location data has not been investigated. Where are the most commonly used docks? What are the most common routes? As another example, weather has potential to have a large impact on daily ridership. How much is ridership impacted when there is rain or snow? Are subscribers or customers affected more by changes in weather?\n",
    "\n",
    "**Question 7**: Putting the bike share data aside, think of a topic or field of interest where you would like to be able to apply the techniques of data science. What would you like to be able to learn from your chosen subject?\n",
    "\n",
    "**Answer**: I'd like to investigate how urban landuse pattern has changed over time and what have affected those changes. And we would be able to learn how to predict the urban transformation by this analysis.  \n",
    "\n",
    "> **Tip**: If we want to share the results of our analysis with others, we aren't limited to giving them a copy of the jupyter Notebook (.ipynb) file. We can also export the Notebook output in a form that can be opened even for those without Python installed. From the **File** menu in the upper left, go to the **Download as** submenu. You can then choose a different format that can be viewed more generally, such as HTML (.html) or\n",
    "PDF (.pdf). You may need additional packages or software to perform these exports."
   ]
  }
 ],
 "metadata": {
  "anaconda-cloud": {},
  "kernelspec": {
   "display_name": "Python 3",
   "language": "python",
   "name": "python3"
  },
  "language_info": {
   "codemirror_mode": {
    "name": "ipython",
    "version": 3
   },
   "file_extension": ".py",
   "mimetype": "text/x-python",
   "name": "python",
   "nbconvert_exporter": "python",
   "pygments_lexer": "ipython3",
   "version": "3.5.2"
  }
 },
 "nbformat": 4,
 "nbformat_minor": 1
}
